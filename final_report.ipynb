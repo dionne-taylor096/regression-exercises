{
 "cells": [
  {
   "attachments": {
    "magnify_homes.jpeg": {
     "image/jpeg": "[encoded data removed]"
    }
   },
   "cell_type": "markdown",
   "metadata": {},
   "source": [
    "___\n",
    "\n",
    "<div>\n",
    "<img src=\"attachment:magnify_homes.jpeg\" width=\"350\"/>\n",
    "</div>\n",
    "\n",
    "___\n",
    "\n",
    "# Regression Analysis\n",
    "\n",
    "## By: Dionne L. Taylor\n",
    "## Cohort: O'Neil\n",
    "\n"
   ]
  },
  {
   "cell_type": "markdown",
   "metadata": {},
   "source": [
    "## Project Description \n",
    "### Regression Project: Estimating Home Value\n",
    "#### Summarize the findings and insights from the data exploration, modeling, and evaluation steps. Present the results to stakeholders, highlighting how the model meets their requirements and expectations.\n",
    "\n",
    "\n"
   ]
  },
  {
   "cell_type": "markdown",
   "metadata": {},
   "source": [
    "## Regression Project Plan\n",
    "\n",
    "\n",
    "\n",
    "#### 1. Data Cleaning: Removing duplicates, missing values, and irrelevant columns. Dealing with data inconsistencies, such as typos and outliers.\n",
    "\n",
    "#### 2. Exploratory Data Analysis: Descriptive statistics, visualizations, and hypothesis testing to understand the relationships between variables and identify patterns in the data.\n",
    "\n",
    "#### 3. Feature Engineering: Creating new features or modifying existing ones to improve model performance.\n",
    "\n",
    "#### 4. Model Building: Building and testing different machine learning algorithms to predict customer churn.\n",
    "\n",
    "#### 5. Model Evaluation: Evaluating model performance using metrics such as accuracy, precision, recall, and F1 score.\n"
   ]
  },
  {
   "cell_type": "markdown",
   "metadata": {},
   "source": [
    "## Imports"
   ]
  },
  {
   "cell_type": "code",
   "execution_count": 1,
   "metadata": {},
   "outputs": [],
   "source": [
    "import pandas as pd\n",
    "import numpy as np\n",
    "import seaborn as sns\n",
    "import os\n",
    "import warnings\n",
    "warnings.filterwarnings('ignore')\n",
    "import matplotlib.pyplot as plt\n",
    "import wrangle\n",
    "import env\n",
    "import statsmodels.api as sm\n",
    "from sklearn.preprocessing import StandardScaler, OneHotEncoder, OrdinalEncoder, MinMaxScaler\n",
    "from sklearn.model_selection import train_test_split, cross_val_score, KFold\n",
    "from sklearn.metrics import mean_squared_error\n",
    "from sklearn.tree import DecisionTreeRegressor\n",
    "from sklearn.ensemble import RandomForestRegressor, GradientBoostingRegressor\n",
    "from xgboost import XGBRegressor\n",
    "from sklearn.feature_selection import RFE\n",
    "from sklearn.linear_model import LinearRegression, Lasso, Ridge, ElasticNet\n"
   ]
  },
  {
   "cell_type": "markdown",
   "metadata": {},
   "source": [
    "## Data Dictionary"
   ]
  },
  {
   "cell_type": "code",
   "execution_count": 3,
   "metadata": {},
   "outputs": [
    {
     "data": {
      "text/html": [
       "<div>\n",
       "<style scoped>\n",
       "    .dataframe tbody tr th:only-of-type {\n",
       "        vertical-align: middle;\n",
       "    }\n",
       "\n",
       "    .dataframe tbody tr th {\n",
       "        vertical-align: top;\n",
       "    }\n",
       "\n",
       "    .dataframe thead th {\n",
       "        text-align: right;\n",
       "    }\n",
       "</style>\n",
       "<table border=\"1\" class=\"dataframe\">\n",
       "  <thead>\n",
       "    <tr style=\"text-align: right;\">\n",
       "      <th></th>\n",
       "      <th>Description</th>\n",
       "    </tr>\n",
       "  </thead>\n",
       "  <tbody>\n",
       "    <tr>\n",
       "      <th>id</th>\n",
       "      <td>Unique identifier for each property</td>\n",
       "    </tr>\n",
       "    <tr>\n",
       "      <th>parcelid</th>\n",
       "      <td>Unique identifier for each property, used in c...</td>\n",
       "    </tr>\n",
       "    <tr>\n",
       "      <th>bedroomcnt</th>\n",
       "      <td>Number of bedrooms in the property</td>\n",
       "    </tr>\n",
       "    <tr>\n",
       "      <th>bathroomcnt</th>\n",
       "      <td>Number of bathrooms in the property</td>\n",
       "    </tr>\n",
       "    <tr>\n",
       "      <th>fireplacecnt</th>\n",
       "      <td>Number of fireplaces in the property</td>\n",
       "    </tr>\n",
       "    <tr>\n",
       "      <th>calculatedbathnbr</th>\n",
       "      <td>Number of bathrooms in the property (including...</td>\n",
       "    </tr>\n",
       "    <tr>\n",
       "      <th>calculatedfinishedsquarefeet</th>\n",
       "      <td>Total finished living area of the property, in...</td>\n",
       "    </tr>\n",
       "    <tr>\n",
       "      <th>fullbathcnt</th>\n",
       "      <td>Number of full bathrooms in the property (incl...</td>\n",
       "    </tr>\n",
       "    <tr>\n",
       "      <th>garagecarcnt</th>\n",
       "      <td>Number of cars that can fit in the garage, if ...</td>\n",
       "    </tr>\n",
       "    <tr>\n",
       "      <th>garagetotalsqft</th>\n",
       "      <td>Total square footage of the garage, if applicable</td>\n",
       "    </tr>\n",
       "    <tr>\n",
       "      <th>latitude</th>\n",
       "      <td>Latitude of the property</td>\n",
       "    </tr>\n",
       "    <tr>\n",
       "      <th>longitude</th>\n",
       "      <td>Longitude of the property</td>\n",
       "    </tr>\n",
       "    <tr>\n",
       "      <th>lotsizesquarefeet</th>\n",
       "      <td>Total area of the lot, in square feet</td>\n",
       "    </tr>\n",
       "    <tr>\n",
       "      <th>regionidzip</th>\n",
       "      <td>Zip code of the property</td>\n",
       "    </tr>\n",
       "    <tr>\n",
       "      <th>taxvaluedollarcnt</th>\n",
       "      <td>Total tax assessed value of the property, in d...</td>\n",
       "    </tr>\n",
       "    <tr>\n",
       "      <th>roomcnt</th>\n",
       "      <td>Total number of rooms in the property (includi...</td>\n",
       "    </tr>\n",
       "    <tr>\n",
       "      <th>yearbuilt</th>\n",
       "      <td>Year the property was built</td>\n",
       "    </tr>\n",
       "    <tr>\n",
       "      <th>numberofstories</th>\n",
       "      <td>Number of stories in the property, if applicable</td>\n",
       "    </tr>\n",
       "    <tr>\n",
       "      <th>assessmentyear</th>\n",
       "      <td>Year of the property assessment, used in conju...</td>\n",
       "    </tr>\n",
       "    <tr>\n",
       "      <th>landtaxvaluedollarcnt</th>\n",
       "      <td>Tax assessed value of the land, in dollars</td>\n",
       "    </tr>\n",
       "    <tr>\n",
       "      <th>structuretaxvaluedollarcnt</th>\n",
       "      <td>Tax assessed value of the structure, in dollars</td>\n",
       "    </tr>\n",
       "    <tr>\n",
       "      <th>taxamount</th>\n",
       "      <td>Total property tax for the assessment year, in...</td>\n",
       "    </tr>\n",
       "  </tbody>\n",
       "</table>\n",
       "</div>"
      ],
      "text/plain": [
       "                                                                    Description\n",
       "id                                          Unique identifier for each property\n",
       "parcelid                      Unique identifier for each property, used in c...\n",
       "bedroomcnt                                   Number of bedrooms in the property\n",
       "bathroomcnt                                 Number of bathrooms in the property\n",
       "fireplacecnt                               Number of fireplaces in the property\n",
       "calculatedbathnbr             Number of bathrooms in the property (including...\n",
       "calculatedfinishedsquarefeet  Total finished living area of the property, in...\n",
       "fullbathcnt                   Number of full bathrooms in the property (incl...\n",
       "garagecarcnt                  Number of cars that can fit in the garage, if ...\n",
       "garagetotalsqft               Total square footage of the garage, if applicable\n",
       "latitude                                               Latitude of the property\n",
       "longitude                                             Longitude of the property\n",
       "lotsizesquarefeet                         Total area of the lot, in square feet\n",
       "regionidzip                                            Zip code of the property\n",
       "taxvaluedollarcnt             Total tax assessed value of the property, in d...\n",
       "roomcnt                       Total number of rooms in the property (includi...\n",
       "yearbuilt                                           Year the property was built\n",
       "numberofstories                Number of stories in the property, if applicable\n",
       "assessmentyear                Year of the property assessment, used in conju...\n",
       "landtaxvaluedollarcnt                Tax assessed value of the land, in dollars\n",
       "structuretaxvaluedollarcnt      Tax assessed value of the structure, in dollars\n",
       "taxamount                     Total property tax for the assessment year, in..."
      ]
     },
     "execution_count": 3,
     "metadata": {},
     "output_type": "execute_result"
    }
   ],
   "source": [
    "wrangle.data_dict()"
   ]
  },
  {
   "cell_type": "markdown",
   "metadata": {},
   "source": [
    "## Data acquisition:\n",
    ">Use SQL to filter the properties with transactions in 2017.\n",
    "Join the properties_2017, predictions_2017, and propertylandusetype tables.Extract the required features ('square feet of the home', 'number of bedrooms', and 'number of bathrooms') and the target variable ('taxvaluedollarcnt')."
   ]
  },
  {
   "cell_type": "code",
   "execution_count": 4,
   "metadata": {},
   "outputs": [],
   "source": [
    "df = wrangle.wrangle_zillow_data()"
   ]
  },
  {
   "cell_type": "code",
   "execution_count": 5,
   "metadata": {},
   "outputs": [
    {
     "data": {
      "text/html": [
       "<div>\n",
       "<style scoped>\n",
       "    .dataframe tbody tr th:only-of-type {\n",
       "        vertical-align: middle;\n",
       "    }\n",
       "\n",
       "    .dataframe tbody tr th {\n",
       "        vertical-align: top;\n",
       "    }\n",
       "\n",
       "    .dataframe thead th {\n",
       "        text-align: right;\n",
       "    }\n",
       "</style>\n",
       "<table border=\"1\" class=\"dataframe\">\n",
       "  <thead>\n",
       "    <tr style=\"text-align: right;\">\n",
       "      <th></th>\n",
       "      <th>total_sqft</th>\n",
       "      <th>ensuite_bathrooms</th>\n",
       "      <th>num_rooms</th>\n",
       "      <th>year_built</th>\n",
       "      <th>num_full_baths</th>\n",
       "      <th>lot_sqft</th>\n",
       "      <th>assessed_property_value</th>\n",
       "    </tr>\n",
       "  </thead>\n",
       "  <tbody>\n",
       "    <tr>\n",
       "      <th>11051</th>\n",
       "      <td>1822</td>\n",
       "      <td>2.0</td>\n",
       "      <td>7.0</td>\n",
       "      <td>1965</td>\n",
       "      <td>2.0</td>\n",
       "      <td>7848</td>\n",
       "      <td>328628.0</td>\n",
       "    </tr>\n",
       "    <tr>\n",
       "      <th>17769</th>\n",
       "      <td>1537</td>\n",
       "      <td>2.0</td>\n",
       "      <td>0.0</td>\n",
       "      <td>1937</td>\n",
       "      <td>2.0</td>\n",
       "      <td>4763</td>\n",
       "      <td>106336.0</td>\n",
       "    </tr>\n",
       "    <tr>\n",
       "      <th>26898</th>\n",
       "      <td>1424</td>\n",
       "      <td>2.0</td>\n",
       "      <td>0.0</td>\n",
       "      <td>1959</td>\n",
       "      <td>2.0</td>\n",
       "      <td>5029</td>\n",
       "      <td>372791.0</td>\n",
       "    </tr>\n",
       "    <tr>\n",
       "      <th>10888</th>\n",
       "      <td>1431</td>\n",
       "      <td>2.0</td>\n",
       "      <td>6.0</td>\n",
       "      <td>1961</td>\n",
       "      <td>2.0</td>\n",
       "      <td>6120</td>\n",
       "      <td>305591.0</td>\n",
       "    </tr>\n",
       "    <tr>\n",
       "      <th>46196</th>\n",
       "      <td>1200</td>\n",
       "      <td>2.0</td>\n",
       "      <td>0.0</td>\n",
       "      <td>1954</td>\n",
       "      <td>2.0</td>\n",
       "      <td>6118</td>\n",
       "      <td>32047.0</td>\n",
       "    </tr>\n",
       "    <tr>\n",
       "      <th>...</th>\n",
       "      <td>...</td>\n",
       "      <td>...</td>\n",
       "      <td>...</td>\n",
       "      <td>...</td>\n",
       "      <td>...</td>\n",
       "      <td>...</td>\n",
       "      <td>...</td>\n",
       "    </tr>\n",
       "    <tr>\n",
       "      <th>4465</th>\n",
       "      <td>1816</td>\n",
       "      <td>2.0</td>\n",
       "      <td>0.0</td>\n",
       "      <td>1965</td>\n",
       "      <td>2.0</td>\n",
       "      <td>5384</td>\n",
       "      <td>223833.0</td>\n",
       "    </tr>\n",
       "    <tr>\n",
       "      <th>19831</th>\n",
       "      <td>1523</td>\n",
       "      <td>2.0</td>\n",
       "      <td>0.0</td>\n",
       "      <td>1954</td>\n",
       "      <td>2.0</td>\n",
       "      <td>5495</td>\n",
       "      <td>62706.0</td>\n",
       "    </tr>\n",
       "    <tr>\n",
       "      <th>21921</th>\n",
       "      <td>1137</td>\n",
       "      <td>2.0</td>\n",
       "      <td>0.0</td>\n",
       "      <td>1953</td>\n",
       "      <td>2.0</td>\n",
       "      <td>6586</td>\n",
       "      <td>409145.0</td>\n",
       "    </tr>\n",
       "    <tr>\n",
       "      <th>28373</th>\n",
       "      <td>1531</td>\n",
       "      <td>2.0</td>\n",
       "      <td>0.0</td>\n",
       "      <td>1939</td>\n",
       "      <td>2.0</td>\n",
       "      <td>6749</td>\n",
       "      <td>75262.0</td>\n",
       "    </tr>\n",
       "    <tr>\n",
       "      <th>19839</th>\n",
       "      <td>1192</td>\n",
       "      <td>2.0</td>\n",
       "      <td>0.0</td>\n",
       "      <td>1954</td>\n",
       "      <td>2.0</td>\n",
       "      <td>5087</td>\n",
       "      <td>93303.0</td>\n",
       "    </tr>\n",
       "  </tbody>\n",
       "</table>\n",
       "<p>13973 rows × 7 columns</p>\n",
       "</div>"
      ],
      "text/plain": [
       "       total_sqft  ensuite_bathrooms  num_rooms  year_built  num_full_baths  \\\n",
       "11051        1822                2.0        7.0        1965             2.0   \n",
       "17769        1537                2.0        0.0        1937             2.0   \n",
       "26898        1424                2.0        0.0        1959             2.0   \n",
       "10888        1431                2.0        6.0        1961             2.0   \n",
       "46196        1200                2.0        0.0        1954             2.0   \n",
       "...           ...                ...        ...         ...             ...   \n",
       "4465         1816                2.0        0.0        1965             2.0   \n",
       "19831        1523                2.0        0.0        1954             2.0   \n",
       "21921        1137                2.0        0.0        1953             2.0   \n",
       "28373        1531                2.0        0.0        1939             2.0   \n",
       "19839        1192                2.0        0.0        1954             2.0   \n",
       "\n",
       "       lot_sqft  assessed_property_value  \n",
       "11051      7848                 328628.0  \n",
       "17769      4763                 106336.0  \n",
       "26898      5029                 372791.0  \n",
       "10888      6120                 305591.0  \n",
       "46196      6118                  32047.0  \n",
       "...         ...                      ...  \n",
       "4465       5384                 223833.0  \n",
       "19831      5495                  62706.0  \n",
       "21921      6586                 409145.0  \n",
       "28373      6749                  75262.0  \n",
       "19839      5087                  93303.0  \n",
       "\n",
       "[13973 rows x 7 columns]"
      ]
     },
     "execution_count": 5,
     "metadata": {},
     "output_type": "execute_result"
    }
   ],
   "source": [
    "df"
   ]
  },
  {
   "cell_type": "markdown",
   "metadata": {},
   "source": [
    "## Hypothesis\n",
    "\n",
    "H$_0$: There is no linear relationship between total_sqft and assessed_property_value\n",
    "\n",
    "H$_a$: There is linear relationship between total_sqft and assessed_property_value"
   ]
  },
  {
   "cell_type": "code",
   "execution_count": 6,
   "metadata": {},
   "outputs": [
    {
     "name": "stdout",
     "output_type": "stream",
     "text": [
      "Feature: total_sqft\n",
      "Pearson correlation coefficient: 0.15393939325314962\n",
      "P-value: 7.639073970864941e-75\n",
      "\n",
      "\n",
      "Spearman correlation coefficient: 0.14901814140252193\n",
      "P-value: 3.3608523362765905e-70\n",
      "\u001b[32mReject the null hypothesis (H0): There is a linear relationship'.\u001b[0m\n",
      "\n",
      "\n",
      "Feature: ensuite_bathrooms\n",
      "Pearson correlation coefficient: nan\n",
      "P-value: nan\n",
      "\n",
      "\n",
      "Spearman correlation coefficient: nan\n",
      "P-value: nan\n",
      "\u001b[31mFail to reject the null hypothesis (H0): There is no evidence of a linear relationship'.\u001b[0m\n",
      "\n",
      "\n",
      "Feature: num_rooms\n",
      "Pearson correlation coefficient: 0.0726156008191545\n",
      "P-value: 8.378577633088081e-18\n",
      "\n",
      "\n",
      "Spearman correlation coefficient: 0.07792604675227277\n",
      "P-value: 2.845047817515245e-20\n",
      "\u001b[32mReject the null hypothesis (H0): There is a linear relationship'.\u001b[0m\n",
      "\n",
      "\n",
      "Feature: year_built\n",
      "Pearson correlation coefficient: 0.022057484787797527\n",
      "P-value: 0.009122129567619775\n",
      "\n",
      "\n",
      "Spearman correlation coefficient: 0.034562177055926846\n",
      "P-value: 4.381900961250537e-05\n",
      "\u001b[32mReject the null hypothesis (H0): There is a linear relationship'.\u001b[0m\n",
      "\n",
      "\n",
      "Feature: num_full_baths\n",
      "Pearson correlation coefficient: nan\n",
      "P-value: nan\n",
      "\n",
      "\n",
      "Spearman correlation coefficient: nan\n",
      "P-value: nan\n",
      "\u001b[31mFail to reject the null hypothesis (H0): There is no evidence of a linear relationship'.\u001b[0m\n",
      "\n",
      "\n",
      "Feature: lot_sqft\n",
      "Pearson correlation coefficient: 0.013132419797437631\n",
      "P-value: 0.12059575736392822\n",
      "\n",
      "\n",
      "Spearman correlation coefficient: 0.014784367754747866\n",
      "P-value: 0.08053998855194394\n",
      "\u001b[31mFail to reject the null hypothesis (H0): There is no evidence of a linear relationship'.\u001b[0m\n",
      "\n",
      "\n"
     ]
    }
   ],
   "source": [
    "wrangle.feature_correlation(df)"
   ]
  },
  {
   "cell_type": "markdown",
   "metadata": {},
   "source": [
    "## Data validation/QA:\n",
    "> Check the data types and missing values.\n",
    "Validate the data by cross-referencing it with the source or any documentation available.\n",
    "> Use cross-validation to evaluate the performance of different regression models on your dataset."
   ]
  },
  {
   "cell_type": "code",
   "execution_count": 7,
   "metadata": {},
   "outputs": [
    {
     "data": {
      "text/html": [
       "<div>\n",
       "<style scoped>\n",
       "    .dataframe tbody tr th:only-of-type {\n",
       "        vertical-align: middle;\n",
       "    }\n",
       "\n",
       "    .dataframe tbody tr th {\n",
       "        vertical-align: top;\n",
       "    }\n",
       "\n",
       "    .dataframe thead th {\n",
       "        text-align: right;\n",
       "    }\n",
       "</style>\n",
       "<table border=\"1\" class=\"dataframe\">\n",
       "  <thead>\n",
       "    <tr style=\"text-align: right;\">\n",
       "      <th></th>\n",
       "      <th>dtypes</th>\n",
       "      <th>missing_values</th>\n",
       "      <th>unique_values</th>\n",
       "      <th>count</th>\n",
       "      <th>mean</th>\n",
       "      <th>std</th>\n",
       "      <th>min</th>\n",
       "      <th>25%</th>\n",
       "      <th>50%</th>\n",
       "      <th>75%</th>\n",
       "      <th>max</th>\n",
       "    </tr>\n",
       "  </thead>\n",
       "  <tbody>\n",
       "    <tr>\n",
       "      <th>0</th>\n",
       "      <td>int64</td>\n",
       "      <td>0</td>\n",
       "      <td>1235</td>\n",
       "      <td>13973</td>\n",
       "      <td>1487.092178</td>\n",
       "      <td>262.920780</td>\n",
       "      <td>774.0</td>\n",
       "      <td>1281.0</td>\n",
       "      <td>1458.0</td>\n",
       "      <td>1657.0</td>\n",
       "      <td>2220.0</td>\n",
       "    </tr>\n",
       "    <tr>\n",
       "      <th>1</th>\n",
       "      <td>float64</td>\n",
       "      <td>0</td>\n",
       "      <td>1</td>\n",
       "      <td>13973</td>\n",
       "      <td>2.000000</td>\n",
       "      <td>0.000000</td>\n",
       "      <td>2.0</td>\n",
       "      <td>2.0</td>\n",
       "      <td>2.0</td>\n",
       "      <td>2.0</td>\n",
       "      <td>2.0</td>\n",
       "    </tr>\n",
       "    <tr>\n",
       "      <th>2</th>\n",
       "      <td>float64</td>\n",
       "      <td>0</td>\n",
       "      <td>10</td>\n",
       "      <td>13973</td>\n",
       "      <td>2.093323</td>\n",
       "      <td>3.061918</td>\n",
       "      <td>0.0</td>\n",
       "      <td>0.0</td>\n",
       "      <td>0.0</td>\n",
       "      <td>6.0</td>\n",
       "      <td>10.0</td>\n",
       "    </tr>\n",
       "    <tr>\n",
       "      <th>3</th>\n",
       "      <td>int64</td>\n",
       "      <td>0</td>\n",
       "      <td>44</td>\n",
       "      <td>13973</td>\n",
       "      <td>1958.323696</td>\n",
       "      <td>9.345620</td>\n",
       "      <td>1937.0</td>\n",
       "      <td>1953.0</td>\n",
       "      <td>1957.0</td>\n",
       "      <td>1964.0</td>\n",
       "      <td>1980.0</td>\n",
       "    </tr>\n",
       "    <tr>\n",
       "      <th>4</th>\n",
       "      <td>float64</td>\n",
       "      <td>0</td>\n",
       "      <td>1</td>\n",
       "      <td>13973</td>\n",
       "      <td>2.000000</td>\n",
       "      <td>0.000000</td>\n",
       "      <td>2.0</td>\n",
       "      <td>2.0</td>\n",
       "      <td>2.0</td>\n",
       "      <td>2.0</td>\n",
       "      <td>2.0</td>\n",
       "    </tr>\n",
       "    <tr>\n",
       "      <th>5</th>\n",
       "      <td>int64</td>\n",
       "      <td>0</td>\n",
       "      <td>4288</td>\n",
       "      <td>13973</td>\n",
       "      <td>6771.122594</td>\n",
       "      <td>1216.598988</td>\n",
       "      <td>3660.0</td>\n",
       "      <td>5998.0</td>\n",
       "      <td>6653.0</td>\n",
       "      <td>7559.0</td>\n",
       "      <td>9900.0</td>\n",
       "    </tr>\n",
       "    <tr>\n",
       "      <th>6</th>\n",
       "      <td>float64</td>\n",
       "      <td>0</td>\n",
       "      <td>11433</td>\n",
       "      <td>13973</td>\n",
       "      <td>317122.783296</td>\n",
       "      <td>199415.975412</td>\n",
       "      <td>26660.0</td>\n",
       "      <td>129431.0</td>\n",
       "      <td>305479.0</td>\n",
       "      <td>451461.0</td>\n",
       "      <td>925000.0</td>\n",
       "    </tr>\n",
       "  </tbody>\n",
       "</table>\n",
       "</div>"
      ],
      "text/plain": [
       "    dtypes  missing_values  unique_values  count           mean  \\\n",
       "0    int64               0           1235  13973    1487.092178   \n",
       "1  float64               0              1  13973       2.000000   \n",
       "2  float64               0             10  13973       2.093323   \n",
       "3    int64               0             44  13973    1958.323696   \n",
       "4  float64               0              1  13973       2.000000   \n",
       "5    int64               0           4288  13973    6771.122594   \n",
       "6  float64               0          11433  13973  317122.783296   \n",
       "\n",
       "             std      min       25%       50%       75%       max  \n",
       "0     262.920780    774.0    1281.0    1458.0    1657.0    2220.0  \n",
       "1       0.000000      2.0       2.0       2.0       2.0       2.0  \n",
       "2       3.061918      0.0       0.0       0.0       6.0      10.0  \n",
       "3       9.345620   1937.0    1953.0    1957.0    1964.0    1980.0  \n",
       "4       0.000000      2.0       2.0       2.0       2.0       2.0  \n",
       "5    1216.598988   3660.0    5998.0    6653.0    7559.0    9900.0  \n",
       "6  199415.975412  26660.0  129431.0  305479.0  451461.0  925000.0  "
      ]
     },
     "execution_count": 7,
     "metadata": {},
     "output_type": "execute_result"
    }
   ],
   "source": [
    "wrangle.summarize_data(df)"
   ]
  },
  {
   "cell_type": "code",
   "execution_count": 8,
   "metadata": {},
   "outputs": [
    {
     "name": "stdout",
     "output_type": "stream",
     "text": [
      "Linear Regression: Avg. RMSE: 196296.9080, Std. Dev: 4337.4122\n",
      "Lasso: Avg. RMSE: 196296.9068, Std. Dev: 4337.4193\n",
      "Ridge: Avg. RMSE: 196296.8843, Std. Dev: 4337.4014\n",
      "ElasticNet: Avg. RMSE: 196575.5643, Std. Dev: 4290.8662\n",
      "Decision Tree: Avg. RMSE: 276897.5987, Std. Dev: 5700.3380\n",
      "Random Forest: Avg. RMSE: 204941.5989, Std. Dev: 3829.8050\n",
      "Gradient Boosting: Avg. RMSE: 195321.0533, Std. Dev: 4517.4713\n",
      "XGBoost: Avg. RMSE: 204728.2936, Std. Dev: 3901.2634\n"
     ]
    }
   ],
   "source": [
    "wrangle.cv_evaluation(df)"
   ]
  },
  {
   "cell_type": "markdown",
   "metadata": {},
   "source": [
    "## Data exploration:\n",
    ">Explore the distributions and relationships between the features and the target variable.\n",
    "Identify any potential outliers or anomalies."
   ]
  },
  {
   "cell_type": "code",
   "execution_count": null,
   "metadata": {},
   "outputs": [],
   "source": [
    "wrangle.check_feature_importance(df)"
   ]
  },
  {
   "cell_type": "code",
   "execution_count": null,
   "metadata": {},
   "outputs": [],
   "source": [
    "wrangle.feature_elimination(df, n_features_to_select=3)"
   ]
  },
  {
   "cell_type": "code",
   "execution_count": null,
   "metadata": {},
   "outputs": [],
   "source": [
    "wrangle.hist_frequency_chart(df, continuous_vars=['total_sqft', 'year_built', 'lot_sqft', 'num_rooms'])"
   ]
  },
  {
   "cell_type": "markdown",
   "metadata": {},
   "source": [
    "## Feature engineering:\n",
    "> Handle missing values using appropriate techniques (imputation, dropping, etc.).\n",
    "Encode categorical variables if needed.\n",
    "Remove any features that leak information about the target variable."
   ]
  },
  {
   "cell_type": "code",
   "execution_count": null,
   "metadata": {},
   "outputs": [],
   "source": [
    "wrangle.get_stats(df, 'assessed_property_value')"
   ]
  },
  {
   "cell_type": "code",
   "execution_count": null,
   "metadata": {},
   "outputs": [],
   "source": [
    "X = X.drop('total_sqft', axis=1)\n",
    "get_stats(df[X.columns], df['assessed_property_value_scaled'])"
   ]
  },
  {
   "cell_type": "markdown",
   "metadata": {},
   "source": [
    "## Model selection:\n",
    "> Split the data into train, validation, and test sets.\n",
    "Test different regression models (e.g., linear regression, decision tree, random forest, etc.) on the training set to identify the best performing model."
   ]
  },
  {
   "cell_type": "code",
   "execution_count": null,
   "metadata": {},
   "outputs": [],
   "source": [
    "wrangle.model_selection(df, 'assessed_property_value')"
   ]
  },
  {
   "cell_type": "markdown",
   "metadata": {},
   "source": [
    "## Model evaluation:\n",
    "> Evaluate the selected model on the validation set using appropriate metrics (e.g., mean squared error, R-squared, etc.)."
   ]
  },
  {
   "cell_type": "code",
   "execution_count": null,
   "metadata": {
    "scrolled": false
   },
   "outputs": [],
   "source": [
    "wrangle.model_eval(df, 'assessed_property_value')"
   ]
  },
  {
   "cell_type": "markdown",
   "metadata": {},
   "source": [
    "## Model interpretation:\n",
    "> Investigate the importance of individual features in the final model.\n",
    "Gain insights into the relationships between the features and the target variable."
   ]
  },
  {
   "cell_type": "code",
   "execution_count": null,
   "metadata": {},
   "outputs": [],
   "source": [
    "best_params = {\n",
    "    'n_estimators': 200,\n",
    "    'max_depth': 30,\n",
    "    'min_samples_split': 2,\n",
    "    'min_samples_leaf': 1,\n",
    "    'bootstrap': True\n",
    "    }"
   ]
  },
  {
   "cell_type": "code",
   "execution_count": null,
   "metadata": {},
   "outputs": [],
   "source": [
    "wrangle.model_interpretation(df, 'assessed_property_value', best_params)"
   ]
  },
  {
   "cell_type": "markdown",
   "metadata": {},
   "source": [
    "##  Model validation:\n",
    "> Test the final model on the test set to assess its performance on unseen data."
   ]
  },
  {
   "cell_type": "code",
   "execution_count": null,
   "metadata": {},
   "outputs": [],
   "source": [
    "target_column = 'assessed_property_value'\n",
    "wrangle.model_validation(df, target_column)"
   ]
  },
  {
   "cell_type": "code",
   "execution_count": null,
   "metadata": {},
   "outputs": [],
   "source": [
    "# Choose the features you want to plot, e.g., '' and ''\n",
    "x_feature = 'total_sqft'\n",
    "y_feature = 'assessed_property_value'\n",
    "\n",
    "sns.lmplot(x=x_feature, y=y_feature, data=df, height=7, aspect=1.5, scatter_kws={'alpha': 0.5})\n",
    "plt.title(f'{y_feature} vs {x_feature}')\n",
    "plt.show()"
   ]
  },
  {
   "cell_type": "code",
   "execution_count": null,
   "metadata": {},
   "outputs": [],
   "source": []
  },
  {
   "cell_type": "markdown",
   "metadata": {},
   "source": [
    "# Conclusion, Thanks for you time and attention!"
   ]
  }
 ],
 "metadata": {
  "kernelspec": {
   "display_name": "Python 3 (ipykernel)",
   "language": "python",
   "name": "python3"
  },
  "language_info": {
   "codemirror_mode": {
    "name": "ipython",
    "version": 3
   },
   "file_extension": ".py",
   "mimetype": "text/x-python",
   "name": "python",
   "nbconvert_exporter": "python",
   "pygments_lexer": "ipython3",
   "version": "3.9.13"
  }
 },
 "nbformat": 4,
 "nbformat_minor": 1
}
