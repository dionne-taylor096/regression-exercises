{
 "cells": [
  {
   "attachments": {
    "magnify_homes.jpeg": {
     "image/jpeg": "[encoded data removed]"
    }
   },
   "cell_type": "markdown",
   "metadata": {},
   "source": [
    "___\n",
    "\n",
    "<div>\n",
    "<img src=\"attachment:magnify_homes.jpeg\" width=\"500\"/>\n",
    "</div>\n",
    "\n",
    "___\n",
    "\n",
    "# Regression Analysis\n",
    "\n",
    "## By: Dionne L. Taylor\n",
    "## Cohort: O'Neil\n",
    "\n"
   ]
  },
  {
   "cell_type": "markdown",
   "metadata": {},
   "source": [
    "## Project Description \n",
    "### Regression Project: Estimating Home Value\n",
    "#### Summarize the findings and insights from the data exploration, modeling, and evaluation steps. Present the results to stakeholders, highlighting how the model meets their requirements and expectations.\n",
    "\n",
    "\n"
   ]
  },
  {
   "cell_type": "markdown",
   "metadata": {},
   "source": [
    "## Regression Project Plan\n",
    "\n",
    "\n",
    "#### 1. Data Acquisition\n",
    "\n",
    "#### 2. Hypothesis Testing\n",
    "\n",
    "#### 3. Data Validation & Quality Assurance\n",
    "\n",
    "#### 4. Data Exploration\n",
    "\n",
    "#### 5. Feature Engineering\n",
    "\n",
    "#### 6. Model Selection\n",
    "\n",
    "#### 7. Model Evaluation\n",
    "\n",
    "#### 8. Model Intepretations\n",
    "\n",
    "#### 8. Model Validation\n",
    "\n",
    "#### 10. Recommendations\n"
   ]
  },
  {
   "cell_type": "markdown",
   "metadata": {},
   "source": [
    "## Reproduction Steps\n",
    "\n",
    "#### 1. Obtain dataset from MySqL database or saved csv. Dataset iincludes joins from properties_2017, predictions_2017, and propertylandusetype tables.\n",
    "\n",
    "#### 2. Load the zillow dataset into a Jupyter Notebook or other development environment.\n",
    "\n",
    "#### 3. Perform data cleaning and exploratory data analysis to gain insights into the zillow dataset.\n",
    "\n",
    "#### 4. Build and test different machine learning models to predict assessed property value without using landtaxvaluedollarcnt, structuretaxvaluedollarcnt, and taxamount.\n",
    "\n",
    "#### 5. Evaluate model performance using metrics.\n",
    "\n",
    "#### 6. Recommend the best-performing model to predict assessed property value."
   ]
  },
  {
   "cell_type": "markdown",
   "metadata": {},
   "source": [
    "## Imports"
   ]
  },
  {
   "cell_type": "code",
   "execution_count": null,
   "metadata": {},
   "outputs": [],
   "source": [
    "import pandas as pd\n",
    "import numpy as np\n",
    "import seaborn as sns\n",
    "import os\n",
    "import warnings\n",
    "warnings.filterwarnings('ignore')\n",
    "import matplotlib.pyplot as plt\n",
    "import wrangle\n",
    "import env\n",
    "import statsmodels.api as sm\n",
    "from sklearn.preprocessing import StandardScaler, OneHotEncoder, OrdinalEncoder, MinMaxScaler\n",
    "from sklearn.model_selection import train_test_split, cross_val_score, KFold\n",
    "from sklearn.metrics import mean_squared_error\n",
    "from sklearn.tree import DecisionTreeRegressor\n",
    "from sklearn.ensemble import RandomForestRegressor, GradientBoostingRegressor\n",
    "from xgboost import XGBRegressor\n",
    "from sklearn.feature_selection import RFE\n",
    "from sklearn.linear_model import LinearRegression, Lasso, Ridge, ElasticNet\n"
   ]
  },
  {
   "cell_type": "markdown",
   "metadata": {},
   "source": [
    "## Data Dictionary"
   ]
  },
  {
   "cell_type": "code",
   "execution_count": null,
   "metadata": {},
   "outputs": [],
   "source": [
    "wrangle.data_dict()"
   ]
  },
  {
   "cell_type": "markdown",
   "metadata": {},
   "source": [
    "## Data Acquisition & Cleaning:\n",
    ">Use SQL to filter the properties with transactions in 2017.\n",
    "Join the properties_2017, predictions_2017, and propertylandusetype tables.Extract the required features ('square feet of the home', 'number of bedrooms', and 'number of bathrooms') and the target variable ('taxvaluedollarcnt')."
   ]
  },
  {
   "cell_type": "code",
   "execution_count": null,
   "metadata": {},
   "outputs": [],
   "source": [
    "df = wrangle.wrangle_zillow_data()"
   ]
  },
  {
   "cell_type": "code",
   "execution_count": null,
   "metadata": {},
   "outputs": [],
   "source": [
    "df"
   ]
  },
  {
   "cell_type": "markdown",
   "metadata": {},
   "source": [
    "## Hypothesis:\n",
    "\n",
    "H$_0$: There is no linear relationship between total_sqft and assessed_property_value\n",
    "\n",
    "H$_a$: There is linear relationship between total_sqft and assessed_property_value"
   ]
  },
  {
   "cell_type": "code",
   "execution_count": null,
   "metadata": {},
   "outputs": [],
   "source": [
    "wrangle.feature_correlation(df)"
   ]
  },
  {
   "cell_type": "markdown",
   "metadata": {},
   "source": [
    "## Data Validation & Quality Assurance:\n",
    "> Check the data types and missing values.\n",
    "Validate the data by cross-referencing it with the source or any documentation available.\n",
    "> Use cross-validation to evaluate the performance of different regression models on your dataset."
   ]
  },
  {
   "cell_type": "code",
   "execution_count": null,
   "metadata": {},
   "outputs": [],
   "source": [
    "wrangle.summarize_data(df)"
   ]
  },
  {
   "cell_type": "code",
   "execution_count": null,
   "metadata": {},
   "outputs": [],
   "source": [
    "wrangle.cv_evaluation(df)"
   ]
  },
  {
   "cell_type": "markdown",
   "metadata": {},
   "source": [
    "## Data Exploration:\n",
    ">Explore the distributions and relationships between the features and the target variable.\n",
    "Identify any potential outliers or anomalies."
   ]
  },
  {
   "cell_type": "code",
   "execution_count": null,
   "metadata": {},
   "outputs": [],
   "source": [
    "wrangle.check_feature_importance(df)"
   ]
  },
  {
   "cell_type": "code",
   "execution_count": null,
   "metadata": {},
   "outputs": [],
   "source": [
    "wrangle.feature_elimination(df, n_features_to_select=3)"
   ]
  },
  {
   "cell_type": "code",
   "execution_count": null,
   "metadata": {},
   "outputs": [],
   "source": [
    "wrangle.hist_frequency_chart(df, continuous_vars=['total_sqft', 'year_built', 'lot_sqft', 'num_rooms'])"
   ]
  },
  {
   "cell_type": "markdown",
   "metadata": {},
   "source": [
    "## Feature Engineering:\n",
    "> Handle missing values using appropriate techniques (imputation, dropping, etc.).\n",
    "Encode categorical variables if needed.\n",
    "Remove any features that leak information about the target variable."
   ]
  },
  {
   "cell_type": "code",
   "execution_count": null,
   "metadata": {},
   "outputs": [],
   "source": [
    "wrangle.get_stats(df, 'assessed_property_value')"
   ]
  },
  {
   "cell_type": "code",
   "execution_count": null,
   "metadata": {},
   "outputs": [],
   "source": [
    "X = X.drop('total_sqft', axis=1)\n",
    "get_stats(df[X.columns], df['assessed_property_value_scaled'])"
   ]
  },
  {
   "cell_type": "markdown",
   "metadata": {},
   "source": [
    "## Model Selection:\n",
    "> Split the data into train, validation, and test sets.\n",
    "Test different regression models (e.g., linear regression, decision tree, random forest, etc.) on the training set to identify the best performing model."
   ]
  },
  {
   "cell_type": "code",
   "execution_count": null,
   "metadata": {},
   "outputs": [],
   "source": [
    "wrangle.model_selection(df, 'assessed_property_value')"
   ]
  },
  {
   "cell_type": "markdown",
   "metadata": {},
   "source": [
    "## Model Evaluation:\n",
    "> Evaluate the selected model on the validation set using appropriate metrics (e.g., mean squared error, R-squared, etc.)."
   ]
  },
  {
   "cell_type": "code",
   "execution_count": null,
   "metadata": {
    "scrolled": false
   },
   "outputs": [],
   "source": [
    "wrangle.model_eval(df, 'assessed_property_value')"
   ]
  },
  {
   "cell_type": "markdown",
   "metadata": {},
   "source": [
    "## Model Interpretation:\n",
    "> Investigate the importance of individual features in the final model.\n",
    "Gain insights into the relationships between the features and the target variable."
   ]
  },
  {
   "cell_type": "code",
   "execution_count": null,
   "metadata": {},
   "outputs": [],
   "source": [
    "best_params = {\n",
    "    'n_estimators': 200,\n",
    "    'max_depth': 30,\n",
    "    'min_samples_split': 2,\n",
    "    'min_samples_leaf': 1,\n",
    "    'bootstrap': True\n",
    "    }"
   ]
  },
  {
   "cell_type": "code",
   "execution_count": null,
   "metadata": {},
   "outputs": [],
   "source": [
    "wrangle.model_interpretation(df, 'assessed_property_value', best_params)"
   ]
  },
  {
   "cell_type": "markdown",
   "metadata": {},
   "source": [
    "##  Model Validation:\n",
    "> Test the final model on the test set to assess its performance on unseen data."
   ]
  },
  {
   "cell_type": "code",
   "execution_count": null,
   "metadata": {},
   "outputs": [],
   "source": [
    "target_column = 'assessed_property_value'\n",
    "wrangle.model_validation(df, target_column)"
   ]
  },
  {
   "cell_type": "code",
   "execution_count": null,
   "metadata": {},
   "outputs": [],
   "source": [
    "# Choose the features you want to plot, e.g., '' and ''\n",
    "x_feature = 'total_sqft'\n",
    "y_feature = 'assessed_property_value'\n",
    "\n",
    "sns.lmplot(x=x_feature, y=y_feature, data=df, height=7, aspect=1.5, scatter_kws={'alpha': 0.5})\n",
    "plt.title(f'{y_feature} vs {x_feature}')\n",
    "plt.show()"
   ]
  },
  {
   "cell_type": "markdown",
   "metadata": {},
   "source": [
    "## Conclusion, Thanks for your time and attention!"
   ]
  },
  {
   "cell_type": "code",
   "execution_count": null,
   "metadata": {},
   "outputs": [],
   "source": []
  }
 ],
 "metadata": {
  "kernelspec": {
   "display_name": "Python 3 (ipykernel)",
   "language": "python",
   "name": "python3"
  },
  "language_info": {
   "codemirror_mode": {
    "name": "ipython",
    "version": 3
   },
   "file_extension": ".py",
   "mimetype": "text/x-python",
   "name": "python",
   "nbconvert_exporter": "python",
   "pygments_lexer": "ipython3",
   "version": "3.9.13"
  }
 },
 "nbformat": 4,
 "nbformat_minor": 1
}
