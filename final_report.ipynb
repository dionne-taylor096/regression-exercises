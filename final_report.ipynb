{
 "cells": [
  {
   "attachments": {
    "magnify_homes.jpeg": {
     "image/jpeg": "[encoded data removed]"
    }
   },
   "cell_type": "markdown",
   "metadata": {},
   "source": [
    "___\n",
    "\n",
    "<div>\n",
    "<img src=\"attachment:magnify_homes.jpeg\" width=\"500\"/>\n",
    "</div>\n",
    "\n",
    "___\n",
    "\n",
    "# Regression Analysis\n",
    "\n",
    "## By: Dionne L. Taylor\n",
    "## Cohort: O'Neil\n",
    "\n"
   ]
  },
  {
   "cell_type": "markdown",
   "metadata": {},
   "source": [
    "## Project Description \n",
    "### Regression Project: Estimating Home Value\n",
    "#### Summarize the findings and insights from the data exploration, modeling, and evaluation steps. Present the results to stakeholders, highlighting how the model meets their requirements and expectations.\n",
    "\n",
    "\n"
   ]
  },
  {
   "cell_type": "markdown",
   "metadata": {},
   "source": [
    "## Regression Project Plan\n",
    "\n",
    "\n",
    "#### 1. Data Acquisition\n",
    "\n",
    "#### 2. Hypothesis Testing\n",
    "\n",
    "#### 3. Data Validation & Quality Assurance\n",
    "\n",
    "#### 4. Data Exploration\n",
    "\n",
    "#### 5. Feature Engineering\n",
    "\n",
    "#### 6. Model Selection\n",
    "\n",
    "#### 7. Model Evaluation\n",
    "\n",
    "#### 8. Model Intepretations\n",
    "\n",
    "#### 8. Model Validation\n",
    "\n",
    "#### 10. Recommendations\n"
   ]
  },
  {
   "cell_type": "markdown",
   "metadata": {},
   "source": [
    "## Reproduction Steps\n",
    "\n",
    "#### 1. Obtain dataset from MySqL database or saved csv. Dataset iincludes joins from properties_2017, predictions_2017, and propertylandusetype tables.\n",
    "\n",
    "#### 2. Load the zillow dataset into a Jupyter Notebook or other development environment.\n",
    "\n",
    "#### 3. Perform data cleaning and exploratory data analysis to gain insights into the zillow dataset.\n",
    "\n",
    "#### 4. Build and test different machine learning models to predict assessed property value without using landtaxvaluedollarcnt, structuretaxvaluedollarcnt, and taxamount.\n",
    "\n",
    "#### 5. Evaluate model performance using metrics.\n",
    "\n",
    "#### 6. Recommend the best-performing model to predict assessed property value."
   ]
  },
  {
   "cell_type": "markdown",
   "metadata": {},
   "source": [
    "## Imports"
   ]
  },
  {
   "cell_type": "code",
   "execution_count": 16,
   "metadata": {},
   "outputs": [],
   "source": [
    "import pandas as pd\n",
    "import numpy as np\n",
    "import seaborn as sns\n",
    "import os\n",
    "import warnings\n",
    "warnings.filterwarnings('ignore')\n",
    "import matplotlib.pyplot as plt\n",
    "import wrangle\n",
    "import env\n",
    "import statsmodels.api as sm\n",
    "from sklearn.preprocessing import StandardScaler, OneHotEncoder, OrdinalEncoder, MinMaxScaler\n",
    "from sklearn.model_selection import train_test_split, cross_val_score, KFold\n",
    "from sklearn.metrics import mean_squared_error\n",
    "from sklearn.tree import DecisionTreeRegressor\n",
    "from sklearn.ensemble import RandomForestRegressor, GradientBoostingRegressor\n",
    "from xgboost import XGBRegressor\n",
    "from sklearn.feature_selection import RFE\n",
    "from sklearn.linear_model import LinearRegression, Lasso, Ridge, ElasticNet"
   ]
  },
  {
   "cell_type": "markdown",
   "metadata": {},
   "source": [
    "## Data Dictionary"
   ]
  },
  {
   "cell_type": "code",
   "execution_count": null,
   "metadata": {},
   "outputs": [],
   "source": [
    "wrangle.data_dict()"
   ]
  },
  {
   "cell_type": "code",
   "execution_count": null,
   "metadata": {},
   "outputs": [],
   "source": [
    "wrangle.county_city_code_dict()"
   ]
  },
  {
   "cell_type": "markdown",
   "metadata": {},
   "source": [
    "## Data Acquisition & Cleaning:\n",
    ">Use SQL to filter the properties with transactions in 2017.\n",
    "Join the properties_2017, predictions_2017, and propertylandusetype tables.Extract the required features ('square feet of the home', 'number of bedrooms', and 'number of bathrooms') and the target variable ('taxvaluedollarcnt')."
   ]
  },
  {
   "cell_type": "code",
   "execution_count": null,
   "metadata": {},
   "outputs": [],
   "source": [
    "df = wrangle.get_zillow_data()"
   ]
  },
  {
   "cell_type": "code",
   "execution_count": null,
   "metadata": {},
   "outputs": [],
   "source": [
    "df"
   ]
  },
  {
   "cell_type": "code",
   "execution_count": 19,
   "metadata": {},
   "outputs": [],
   "source": [
    "df = wrangle.wrangle_zillow_data()"
   ]
  },
  {
   "cell_type": "code",
   "execution_count": 20,
   "metadata": {},
   "outputs": [
    {
     "data": {
      "text/html": [
       "<div>\n",
       "<style scoped>\n",
       "    .dataframe tbody tr th:only-of-type {\n",
       "        vertical-align: middle;\n",
       "    }\n",
       "\n",
       "    .dataframe tbody tr th {\n",
       "        vertical-align: top;\n",
       "    }\n",
       "\n",
       "    .dataframe thead th {\n",
       "        text-align: right;\n",
       "    }\n",
       "</style>\n",
       "<table border=\"1\" class=\"dataframe\">\n",
       "  <thead>\n",
       "    <tr style=\"text-align: right;\">\n",
       "      <th></th>\n",
       "      <th>total_sqft</th>\n",
       "      <th>ensuite_bathrooms</th>\n",
       "      <th>num_rooms</th>\n",
       "      <th>year_built</th>\n",
       "      <th>num_full_baths</th>\n",
       "      <th>lot_sqft</th>\n",
       "      <th>assessed_property_value</th>\n",
       "    </tr>\n",
       "  </thead>\n",
       "  <tbody>\n",
       "    <tr>\n",
       "      <th>33718</th>\n",
       "      <td>1404</td>\n",
       "      <td>2.0</td>\n",
       "      <td>7.0</td>\n",
       "      <td>1962</td>\n",
       "      <td>2.0</td>\n",
       "      <td>7500</td>\n",
       "      <td>223557.0</td>\n",
       "    </tr>\n",
       "    <tr>\n",
       "      <th>1210</th>\n",
       "      <td>1758</td>\n",
       "      <td>2.0</td>\n",
       "      <td>0.0</td>\n",
       "      <td>1956</td>\n",
       "      <td>2.0</td>\n",
       "      <td>9090</td>\n",
       "      <td>347615.0</td>\n",
       "    </tr>\n",
       "    <tr>\n",
       "      <th>4999</th>\n",
       "      <td>1832</td>\n",
       "      <td>2.0</td>\n",
       "      <td>0.0</td>\n",
       "      <td>1964</td>\n",
       "      <td>2.0</td>\n",
       "      <td>5086</td>\n",
       "      <td>587000.0</td>\n",
       "    </tr>\n",
       "    <tr>\n",
       "      <th>23890</th>\n",
       "      <td>1270</td>\n",
       "      <td>2.0</td>\n",
       "      <td>0.0</td>\n",
       "      <td>1964</td>\n",
       "      <td>2.0</td>\n",
       "      <td>7884</td>\n",
       "      <td>174787.0</td>\n",
       "    </tr>\n",
       "    <tr>\n",
       "      <th>3480</th>\n",
       "      <td>1314</td>\n",
       "      <td>2.0</td>\n",
       "      <td>6.0</td>\n",
       "      <td>1955</td>\n",
       "      <td>2.0</td>\n",
       "      <td>7416</td>\n",
       "      <td>343277.0</td>\n",
       "    </tr>\n",
       "    <tr>\n",
       "      <th>...</th>\n",
       "      <td>...</td>\n",
       "      <td>...</td>\n",
       "      <td>...</td>\n",
       "      <td>...</td>\n",
       "      <td>...</td>\n",
       "      <td>...</td>\n",
       "      <td>...</td>\n",
       "    </tr>\n",
       "    <tr>\n",
       "      <th>1092</th>\n",
       "      <td>1323</td>\n",
       "      <td>2.0</td>\n",
       "      <td>6.0</td>\n",
       "      <td>1964</td>\n",
       "      <td>2.0</td>\n",
       "      <td>6825</td>\n",
       "      <td>453000.0</td>\n",
       "    </tr>\n",
       "    <tr>\n",
       "      <th>42128</th>\n",
       "      <td>1168</td>\n",
       "      <td>2.0</td>\n",
       "      <td>0.0</td>\n",
       "      <td>1953</td>\n",
       "      <td>2.0</td>\n",
       "      <td>7346</td>\n",
       "      <td>220704.0</td>\n",
       "    </tr>\n",
       "    <tr>\n",
       "      <th>15801</th>\n",
       "      <td>1277</td>\n",
       "      <td>2.0</td>\n",
       "      <td>0.0</td>\n",
       "      <td>1950</td>\n",
       "      <td>2.0</td>\n",
       "      <td>7741</td>\n",
       "      <td>280002.0</td>\n",
       "    </tr>\n",
       "    <tr>\n",
       "      <th>39333</th>\n",
       "      <td>1218</td>\n",
       "      <td>2.0</td>\n",
       "      <td>0.0</td>\n",
       "      <td>1944</td>\n",
       "      <td>2.0</td>\n",
       "      <td>5999</td>\n",
       "      <td>466671.0</td>\n",
       "    </tr>\n",
       "    <tr>\n",
       "      <th>14739</th>\n",
       "      <td>2191</td>\n",
       "      <td>2.0</td>\n",
       "      <td>4.0</td>\n",
       "      <td>1948</td>\n",
       "      <td>2.0</td>\n",
       "      <td>3800</td>\n",
       "      <td>181976.0</td>\n",
       "    </tr>\n",
       "  </tbody>\n",
       "</table>\n",
       "<p>13973 rows × 7 columns</p>\n",
       "</div>"
      ],
      "text/plain": [
       "       total_sqft  ensuite_bathrooms  num_rooms  year_built  num_full_baths  \\\n",
       "33718        1404                2.0        7.0        1962             2.0   \n",
       "1210         1758                2.0        0.0        1956             2.0   \n",
       "4999         1832                2.0        0.0        1964             2.0   \n",
       "23890        1270                2.0        0.0        1964             2.0   \n",
       "3480         1314                2.0        6.0        1955             2.0   \n",
       "...           ...                ...        ...         ...             ...   \n",
       "1092         1323                2.0        6.0        1964             2.0   \n",
       "42128        1168                2.0        0.0        1953             2.0   \n",
       "15801        1277                2.0        0.0        1950             2.0   \n",
       "39333        1218                2.0        0.0        1944             2.0   \n",
       "14739        2191                2.0        4.0        1948             2.0   \n",
       "\n",
       "       lot_sqft  assessed_property_value  \n",
       "33718      7500                 223557.0  \n",
       "1210       9090                 347615.0  \n",
       "4999       5086                 587000.0  \n",
       "23890      7884                 174787.0  \n",
       "3480       7416                 343277.0  \n",
       "...         ...                      ...  \n",
       "1092       6825                 453000.0  \n",
       "42128      7346                 220704.0  \n",
       "15801      7741                 280002.0  \n",
       "39333      5999                 466671.0  \n",
       "14739      3800                 181976.0  \n",
       "\n",
       "[13973 rows x 7 columns]"
      ]
     },
     "execution_count": 20,
     "metadata": {},
     "output_type": "execute_result"
    }
   ],
   "source": [
    "df"
   ]
  },
  {
   "cell_type": "markdown",
   "metadata": {},
   "source": [
    "## Hypothesis:\n",
    "\n",
    "H$_0$: There is no linear relationship between total_sqft and assessed_property_value\n",
    "\n",
    "H$_a$: There is linear relationship between total_sqft and assessed_property_value"
   ]
  },
  {
   "cell_type": "code",
   "execution_count": 21,
   "metadata": {},
   "outputs": [
    {
     "name": "stdout",
     "output_type": "stream",
     "text": [
      "Feature: total_sqft\n",
      "Pearson correlation coefficient: 0.15393939325314956\n",
      "P-value: 7.639073970857993e-75\n",
      "\n",
      "\n",
      "Spearman correlation coefficient: 0.14901814140252193\n",
      "P-value: 3.3608523362765905e-70\n",
      "\u001b[32mReject the null hypothesis (H0): There is a linear relationship'.\u001b[0m\n",
      "\n",
      "\n",
      "Feature: ensuite_bathrooms\n",
      "Pearson correlation coefficient: nan\n",
      "P-value: nan\n",
      "\n",
      "\n",
      "Spearman correlation coefficient: nan\n",
      "P-value: nan\n",
      "\u001b[31mFail to reject the null hypothesis (H0): There is no evidence of a linear relationship'.\u001b[0m\n",
      "\n",
      "\n",
      "Feature: num_rooms\n",
      "Pearson correlation coefficient: 0.07261560081915432\n",
      "P-value: 8.37857763308814e-18\n",
      "\n",
      "\n",
      "Spearman correlation coefficient: 0.07792604675227277\n",
      "P-value: 2.845047817515245e-20\n",
      "\u001b[32mReject the null hypothesis (H0): There is a linear relationship'.\u001b[0m\n",
      "\n",
      "\n",
      "Feature: year_built\n",
      "Pearson correlation coefficient: 0.022057484787797545\n",
      "P-value: 0.009122129567619775\n",
      "\n",
      "\n",
      "Spearman correlation coefficient: 0.034562177055926846\n",
      "P-value: 4.381900961250537e-05\n",
      "\u001b[32mReject the null hypothesis (H0): There is a linear relationship'.\u001b[0m\n",
      "\n",
      "\n",
      "Feature: num_full_baths\n",
      "Pearson correlation coefficient: nan\n",
      "P-value: nan\n",
      "\n",
      "\n",
      "Spearman correlation coefficient: nan\n",
      "P-value: nan\n",
      "\u001b[31mFail to reject the null hypothesis (H0): There is no evidence of a linear relationship'.\u001b[0m\n",
      "\n",
      "\n",
      "Feature: lot_sqft\n",
      "Pearson correlation coefficient: 0.013132419797437733\n",
      "P-value: 0.12059575736403737\n",
      "\n",
      "\n",
      "Spearman correlation coefficient: 0.014784367754747866\n",
      "P-value: 0.08053998855194394\n",
      "\u001b[31mFail to reject the null hypothesis (H0): There is no evidence of a linear relationship'.\u001b[0m\n",
      "\n",
      "\n"
     ]
    }
   ],
   "source": [
    "wrangle.feature_correlation(df)"
   ]
  },
  {
   "cell_type": "markdown",
   "metadata": {},
   "source": [
    "## Data Validation & Quality Assurance:\n",
    "> Check the data types and missing values.\n",
    "Validate the data by cross-referencing it with the source or any documentation available.\n",
    "> Use cross-validation to evaluate the performance of different regression models on your dataset."
   ]
  },
  {
   "cell_type": "code",
   "execution_count": 22,
   "metadata": {},
   "outputs": [
    {
     "data": {
      "text/html": [
       "<div>\n",
       "<style scoped>\n",
       "    .dataframe tbody tr th:only-of-type {\n",
       "        vertical-align: middle;\n",
       "    }\n",
       "\n",
       "    .dataframe tbody tr th {\n",
       "        vertical-align: top;\n",
       "    }\n",
       "\n",
       "    .dataframe thead th {\n",
       "        text-align: right;\n",
       "    }\n",
       "</style>\n",
       "<table border=\"1\" class=\"dataframe\">\n",
       "  <thead>\n",
       "    <tr style=\"text-align: right;\">\n",
       "      <th></th>\n",
       "      <th>dtypes</th>\n",
       "      <th>missing_values</th>\n",
       "      <th>unique_values</th>\n",
       "      <th>count</th>\n",
       "      <th>mean</th>\n",
       "      <th>std</th>\n",
       "      <th>min</th>\n",
       "      <th>25%</th>\n",
       "      <th>50%</th>\n",
       "      <th>75%</th>\n",
       "      <th>max</th>\n",
       "    </tr>\n",
       "  </thead>\n",
       "  <tbody>\n",
       "    <tr>\n",
       "      <th>0</th>\n",
       "      <td>int64</td>\n",
       "      <td>0</td>\n",
       "      <td>1235</td>\n",
       "      <td>13973</td>\n",
       "      <td>1487.092178</td>\n",
       "      <td>262.920780</td>\n",
       "      <td>774.0</td>\n",
       "      <td>1281.0</td>\n",
       "      <td>1458.0</td>\n",
       "      <td>1657.0</td>\n",
       "      <td>2220.0</td>\n",
       "    </tr>\n",
       "    <tr>\n",
       "      <th>1</th>\n",
       "      <td>float64</td>\n",
       "      <td>0</td>\n",
       "      <td>1</td>\n",
       "      <td>13973</td>\n",
       "      <td>2.000000</td>\n",
       "      <td>0.000000</td>\n",
       "      <td>2.0</td>\n",
       "      <td>2.0</td>\n",
       "      <td>2.0</td>\n",
       "      <td>2.0</td>\n",
       "      <td>2.0</td>\n",
       "    </tr>\n",
       "    <tr>\n",
       "      <th>2</th>\n",
       "      <td>float64</td>\n",
       "      <td>0</td>\n",
       "      <td>10</td>\n",
       "      <td>13973</td>\n",
       "      <td>2.093323</td>\n",
       "      <td>3.061918</td>\n",
       "      <td>0.0</td>\n",
       "      <td>0.0</td>\n",
       "      <td>0.0</td>\n",
       "      <td>6.0</td>\n",
       "      <td>10.0</td>\n",
       "    </tr>\n",
       "    <tr>\n",
       "      <th>3</th>\n",
       "      <td>int64</td>\n",
       "      <td>0</td>\n",
       "      <td>44</td>\n",
       "      <td>13973</td>\n",
       "      <td>1958.323696</td>\n",
       "      <td>9.345620</td>\n",
       "      <td>1937.0</td>\n",
       "      <td>1953.0</td>\n",
       "      <td>1957.0</td>\n",
       "      <td>1964.0</td>\n",
       "      <td>1980.0</td>\n",
       "    </tr>\n",
       "    <tr>\n",
       "      <th>4</th>\n",
       "      <td>float64</td>\n",
       "      <td>0</td>\n",
       "      <td>1</td>\n",
       "      <td>13973</td>\n",
       "      <td>2.000000</td>\n",
       "      <td>0.000000</td>\n",
       "      <td>2.0</td>\n",
       "      <td>2.0</td>\n",
       "      <td>2.0</td>\n",
       "      <td>2.0</td>\n",
       "      <td>2.0</td>\n",
       "    </tr>\n",
       "    <tr>\n",
       "      <th>5</th>\n",
       "      <td>int64</td>\n",
       "      <td>0</td>\n",
       "      <td>4288</td>\n",
       "      <td>13973</td>\n",
       "      <td>6771.122594</td>\n",
       "      <td>1216.598988</td>\n",
       "      <td>3660.0</td>\n",
       "      <td>5998.0</td>\n",
       "      <td>6653.0</td>\n",
       "      <td>7559.0</td>\n",
       "      <td>9900.0</td>\n",
       "    </tr>\n",
       "    <tr>\n",
       "      <th>6</th>\n",
       "      <td>float64</td>\n",
       "      <td>0</td>\n",
       "      <td>11433</td>\n",
       "      <td>13973</td>\n",
       "      <td>317122.783296</td>\n",
       "      <td>199415.975412</td>\n",
       "      <td>26660.0</td>\n",
       "      <td>129431.0</td>\n",
       "      <td>305479.0</td>\n",
       "      <td>451461.0</td>\n",
       "      <td>925000.0</td>\n",
       "    </tr>\n",
       "  </tbody>\n",
       "</table>\n",
       "</div>"
      ],
      "text/plain": [
       "    dtypes  missing_values  unique_values  count           mean  \\\n",
       "0    int64               0           1235  13973    1487.092178   \n",
       "1  float64               0              1  13973       2.000000   \n",
       "2  float64               0             10  13973       2.093323   \n",
       "3    int64               0             44  13973    1958.323696   \n",
       "4  float64               0              1  13973       2.000000   \n",
       "5    int64               0           4288  13973    6771.122594   \n",
       "6  float64               0          11433  13973  317122.783296   \n",
       "\n",
       "             std      min       25%       50%       75%       max  \n",
       "0     262.920780    774.0    1281.0    1458.0    1657.0    2220.0  \n",
       "1       0.000000      2.0       2.0       2.0       2.0       2.0  \n",
       "2       3.061918      0.0       0.0       0.0       6.0      10.0  \n",
       "3       9.345620   1937.0    1953.0    1957.0    1964.0    1980.0  \n",
       "4       0.000000      2.0       2.0       2.0       2.0       2.0  \n",
       "5    1216.598988   3660.0    5998.0    6653.0    7559.0    9900.0  \n",
       "6  199415.975412  26660.0  129431.0  305479.0  451461.0  925000.0  "
      ]
     },
     "execution_count": 22,
     "metadata": {},
     "output_type": "execute_result"
    }
   ],
   "source": [
    "wrangle.summarize_data(df)"
   ]
  },
  {
   "cell_type": "code",
   "execution_count": 5,
   "metadata": {},
   "outputs": [
    {
     "name": "stdout",
     "output_type": "stream",
     "text": [
      "Linear Regression: Avg. RMSE: 197198.8817, Std. Dev: 2675.0595\n",
      "Lasso: Avg. RMSE: 197198.8837, Std. Dev: 2675.0091\n",
      "Ridge: Avg. RMSE: 197198.8633, Std. Dev: 2674.9923\n",
      "ElasticNet: Avg. RMSE: 197524.5291, Std. Dev: 2543.9653\n",
      "Decision Tree: Avg. RMSE: 275519.9332, Std. Dev: 2864.7046\n",
      "Random Forest: Avg. RMSE: 206163.6975, Std. Dev: 2009.2500\n",
      "Gradient Boosting: Avg. RMSE: 196379.0651, Std. Dev: 2234.3062\n",
      "XGBoost: Avg. RMSE: 205649.9115, Std. Dev: 1690.8881\n"
     ]
    }
   ],
   "source": [
    "wrangle.cv_evaluation(df)"
   ]
  },
  {
   "cell_type": "markdown",
   "metadata": {},
   "source": [
    "## Data Exploration:\n",
    ">Explore the distributions and relationships between the features and the target variable.\n",
    "Identify any potential outliers or anomalies."
   ]
  },
  {
   "cell_type": "code",
   "execution_count": 6,
   "metadata": {},
   "outputs": [
    {
     "name": "stdout",
     "output_type": "stream",
     "text": [
      "total_sqft: 116.10196662928288\n",
      "ensuite_bathrooms: 5.114464407540709e-12\n",
      "num_rooms: 4251.545426239045\n",
      "year_built: -586.639701314087\n",
      "num_full_baths: 0.0\n",
      "lot_sqft: -3.2394504427399258\n"
     ]
    }
   ],
   "source": [
    "wrangle.check_feature_importance(df)"
   ]
  },
  {
   "cell_type": "code",
   "execution_count": 7,
   "metadata": {},
   "outputs": [
    {
     "name": "stdout",
     "output_type": "stream",
     "text": [
      "Selected columns: Index(['total_sqft', 'num_rooms', 'year_built'], dtype='object')\n"
     ]
    }
   ],
   "source": [
    "wrangle.feature_elimination(df, n_features_to_select=3)"
   ]
  },
  {
   "cell_type": "code",
   "execution_count": 8,
   "metadata": {},
   "outputs": [
    {
     "data": {
      "image/png": "[encoded data removed]",
      "text/plain": [
       "<Figure size 640x480 with 1 Axes>"
      ]
     },
     "metadata": {},
     "output_type": "display_data"
    },
    {
     "data": {
      "image/png": "[encoded data removed]",
      "text/plain": [
       "<Figure size 640x480 with 1 Axes>"
      ]
     },
     "metadata": {},
     "output_type": "display_data"
    },
    {
     "data": {
      "image/png": "[encoded data removed]",
      "text/plain": [
       "<Figure size 640x480 with 1 Axes>"
      ]
     },
     "metadata": {},
     "output_type": "display_data"
    },
    {
     "data": {
      "image/png": "[encoded data removed]",
      "text/plain": [
       "<Figure size 640x480 with 1 Axes>"
      ]
     },
     "metadata": {},
     "output_type": "display_data"
    }
   ],
   "source": [
    "wrangle.hist_frequency_chart(df, continuous_vars=['total_sqft', 'year_built', 'lot_sqft', 'num_rooms'])"
   ]
  },
  {
   "cell_type": "markdown",
   "metadata": {},
   "source": [
    "## Feature Engineering:\n",
    "> Handle missing values using appropriate techniques (imputation, dropping, etc.).\n",
    "Encode categorical variables if needed.\n",
    "Remove any features that leak information about the target variable."
   ]
  },
  {
   "cell_type": "code",
   "execution_count": 9,
   "metadata": {},
   "outputs": [
    {
     "name": "stdout",
     "output_type": "stream",
     "text": [
      "                               OLS Regression Results                              \n",
      "===================================================================================\n",
      "Dep. Variable:     assessed_property_value   R-squared:                       0.027\n",
      "Model:                                 OLS   Adj. R-squared:                  0.027\n",
      "Method:                      Least Squares   F-statistic:                     98.52\n",
      "Date:                     Mon, 10 Apr 2023   Prob (F-statistic):           7.89e-83\n",
      "Time:                             18:43:21   Log-Likelihood:            -1.9015e+05\n",
      "No. Observations:                    13973   AIC:                         3.803e+05\n",
      "Df Residuals:                        13968   BIC:                         3.803e+05\n",
      "Df Model:                                4                                         \n",
      "Covariance Type:                 nonrobust                                         \n",
      "=====================================================================================\n",
      "                        coef    std err          t      P>|t|      [0.025      0.975]\n",
      "-------------------------------------------------------------------------------------\n",
      "total_sqft          116.1020      6.539     17.756      0.000     103.285     128.919\n",
      "ensuite_bathrooms  3.266e+05   9.71e+04      3.363      0.001    1.36e+05    5.17e+05\n",
      "num_rooms          4251.5454    606.574      7.009      0.000    3062.579    5440.511\n",
      "year_built         -586.6397    198.899     -2.949      0.003    -976.508    -196.771\n",
      "num_full_baths     3.266e+05   9.71e+04      3.363      0.001    1.36e+05    5.17e+05\n",
      "lot_sqft             -3.2395      1.396     -2.320      0.020      -5.976      -0.503\n",
      "==============================================================================\n",
      "Omnibus:                      614.178   Durbin-Watson:                   1.981\n",
      "Prob(Omnibus):                  0.000   Jarque-Bera (JB):              576.339\n",
      "Skew:                           0.446   Prob(JB):                    7.07e-126\n",
      "Kurtosis:                       2.559   Cond. No.                     6.43e+18\n",
      "==============================================================================\n",
      "\n",
      "Notes:\n",
      "[1] Standard Errors assume that the covariance matrix of the errors is correctly specified.\n",
      "[2] The smallest eigenvalue is 1.8e-26. This might indicate that there are\n",
      "strong multicollinearity problems or that the design matrix is singular.\n"
     ]
    },
    {
     "data": {
      "text/plain": [
       "<statsmodels.regression.linear_model.RegressionResultsWrapper at 0x169679be0>"
      ]
     },
     "execution_count": 9,
     "metadata": {},
     "output_type": "execute_result"
    }
   ],
   "source": [
    "wrangle.get_stats(df, 'assessed_property_value')"
   ]
  },
  {
   "cell_type": "markdown",
   "metadata": {},
   "source": [
    "## Model Selection:\n",
    "> Split the data into train, validation, and test sets.\n",
    "Test different regression models (e.g., linear regression, decision tree, random forest, etc.) on the training set to identify the best performing model."
   ]
  },
  {
   "cell_type": "code",
   "execution_count": 10,
   "metadata": {},
   "outputs": [
    {
     "name": "stdout",
     "output_type": "stream",
     "text": [
      "Linear Regression: Mean Squared Error = 38700566928.7758, R^2 Score = 0.0265\n",
      "Lasso: Mean Squared Error = 38700566930.6747, R^2 Score = 0.0265\n",
      "Ridge: Mean Squared Error = 38700566820.8018, R^2 Score = 0.0265\n",
      "ElasticNet: Mean Squared Error = 38700552031.0516, R^2 Score = 0.0265\n",
      "Decision Tree: Mean Squared Error = 76403282771.9807, R^2 Score = -0.9336\n",
      "Random Forest: Mean Squared Error = 42173597055.7862, R^2 Score = -0.0598\n",
      "Gradient Boosting: Mean Squared Error = 38131201516.2395, R^2 Score = 0.0407\n",
      "XGBoost: Mean Squared Error = 41207239123.5403, R^2 Score = -0.0369\n"
     ]
    }
   ],
   "source": [
    "wrangle.model_selection(df, 'assessed_property_value')"
   ]
  },
  {
   "cell_type": "markdown",
   "metadata": {},
   "source": [
    "## Model Evaluation:\n",
    "> Evaluate the selected model on the validation set using appropriate metrics (e.g., mean squared error, R-squared, etc.)."
   ]
  },
  {
   "cell_type": "code",
   "execution_count": 11,
   "metadata": {
    "scrolled": true
   },
   "outputs": [
    {
     "name": "stdout",
     "output_type": "stream",
     "text": [
      "Best Model: ElasticNet, R^2 score: 0.021\n",
      "P>|t| for total_sqft: 0.000\n",
      "P>|t| for ensuite_bathrooms: nan\n",
      "P>|t| for num_rooms: 0.000\n",
      "P>|t| for year_built: 0.000\n",
      "P>|t| for num_full_baths: nan\n",
      "P>|t| for lot_sqft: 0.000\n"
     ]
    }
   ],
   "source": [
    "wrangle.model_eval(df, 'assessed_property_value')"
   ]
  },
  {
   "cell_type": "markdown",
   "metadata": {},
   "source": [
    "## Model Interpretation:\n",
    "> Investigate the importance of individual features in the final model.\n",
    "Gain insights into the relationships between the features and the target variable."
   ]
  },
  {
   "cell_type": "code",
   "execution_count": 12,
   "metadata": {},
   "outputs": [],
   "source": [
    "best_params = {\n",
    "    'n_estimators': 200,\n",
    "    'max_depth': 30,\n",
    "    'min_samples_split': 2,\n",
    "    'min_samples_leaf': 1,\n",
    "    'bootstrap': True\n",
    "    }"
   ]
  },
  {
   "cell_type": "code",
   "execution_count": 13,
   "metadata": {},
   "outputs": [
    {
     "name": "stdout",
     "output_type": "stream",
     "text": [
      "             feature  importance\n",
      "5           lot_sqft    0.396348\n",
      "0         total_sqft    0.376118\n",
      "3         year_built    0.187586\n",
      "2          num_rooms    0.039949\n",
      "1  ensuite_bathrooms    0.000000\n",
      "4     num_full_baths    0.000000\n"
     ]
    }
   ],
   "source": [
    "wrangle.model_interpretation(df, 'assessed_property_value', best_params)"
   ]
  },
  {
   "cell_type": "markdown",
   "metadata": {},
   "source": [
    "##  Model Validation:\n",
    "> Test the final model on the test set to assess its performance on unseen data."
   ]
  },
  {
   "cell_type": "code",
   "execution_count": 14,
   "metadata": {},
   "outputs": [
    {
     "name": "stdout",
     "output_type": "stream",
     "text": [
      "Best Model: Lasso, R^2 score: 0.021\n",
      "P>|t| for total_sqft: 0.000\n",
      "P>|t| for ensuite_bathrooms: nan\n",
      "P>|t| for num_rooms: 0.000\n",
      "P>|t| for year_built: 0.000\n",
      "P>|t| for num_full_baths: nan\n",
      "P>|t| for lot_sqft: 0.000\n"
     ]
    }
   ],
   "source": [
    "target_column = 'assessed_property_value'\n",
    "wrangle.model_validation(df, target_column)"
   ]
  },
  {
   "cell_type": "code",
   "execution_count": 15,
   "metadata": {},
   "outputs": [
    {
     "name": "stdout",
     "output_type": "stream",
     "text": [
      "Train R^2 Score: 0.029\n",
      "Train Mean Squared Error: 38842719153.191\n",
      "Validation R^2 Score: 0.021\n",
      "Validation Mean Squared Error: 37031093812.912\n",
      "Test R^2 Score: 0.021\n",
      "Test Mean Squared Error: 39591040279.459\n",
      "Difference in R^2 Scores:\n",
      "Train-Validation: 0.008\n",
      "Train-Test: 0.008\n",
      "Validation-Test: 0.000\n"
     ]
    }
   ],
   "source": [
    "target_column = 'assessed_property_value'\n",
    "wrangle.split_and_evaluate_ols(df, target_column)"
   ]
  },
  {
   "cell_type": "markdown",
   "metadata": {},
   "source": [
    "## Conclusion, Thanks for your time and attention!"
   ]
  }
 ],
 "metadata": {
  "kernelspec": {
   "display_name": "Python 3 (ipykernel)",
   "language": "python",
   "name": "python3"
  },
  "language_info": {
   "codemirror_mode": {
    "name": "ipython",
    "version": 3
   },
   "file_extension": ".py",
   "mimetype": "text/x-python",
   "name": "python",
   "nbconvert_exporter": "python",
   "pygments_lexer": "ipython3",
   "version": "3.9.13"
  }
 },
 "nbformat": 4,
 "nbformat_minor": 1
}
